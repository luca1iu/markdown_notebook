{
 "cells": [
  {
   "cell_type": "markdown",
   "source": [
    "question description:\n",
    "you have following 5 dataframes and you want to save them into one excel file with different sheets"
   ],
   "metadata": {
    "collapsed": false,
    "pycharm": {
     "name": "#%% md\n"
    }
   }
  },
  {
   "cell_type": "code",
   "execution_count": 2,
   "outputs": [
    {
     "name": "stdout",
     "output_type": "stream",
     "text": [
      "        Date  ID   Name  Grade\n",
      "0  2022/12/1   1    Tom  98.45\n",
      "1  2022/12/1   2  Grace  65.24\n",
      "2  2022/12/1   3   Luca  30.00\n",
      "3  2022/12/1   4  Tessa  80.88\n",
      "        Date  ID Name  Grade\n",
      "0  2022/11/1  23    T  98.45\n",
      "1  2022/11/1  24    G  65.24\n",
      "2  2022/11/1  35    L  30.00\n",
      "3  2022/11/1  23    T  80.88\n"
     ]
    }
   ],
   "source": [
    "import pandas as pd\n",
    "\n",
    "df1 = pd.DataFrame({'Date':['2022/12/1','2022/12/1','2022/12/1','2022/12/1'],'ID':[1,2,3,4],'Name':['Tom','Grace','Luca','Tessa'],'Grade':[98.45,65.24,30,80.88]})\n",
    "df2= pd.DataFrame({'Date':['2022/11/1','2022/11/1','2022/11/1','2022/11/1'],'ID':[23,24,35,23],'Name':['T','G','L','T'],'Grade':[98.45,65.24,30,80.88]})\n",
    "\n",
    "print(df1)\n",
    "\n",
    "\n",
    "print(df2)"
   ],
   "metadata": {
    "collapsed": false,
    "pycharm": {
     "name": "#%%\n"
    }
   }
  },
  {
   "cell_type": "code",
   "execution_count": null,
   "outputs": [],
   "source": [],
   "metadata": {
    "collapsed": false,
    "pycharm": {
     "name": "#%%\n"
    }
   }
  },
  {
   "cell_type": "code",
   "execution_count": null,
   "outputs": [],
   "source": [
    "import xlsxwriter\n",
    "\n",
    "# create excel file\n",
    "workbook = xlsxwriter.Workbook(\"new_excel.xlsx\")\n",
    "\n",
    "# create two sheets\n",
    "worksheet1 = workbook.add_worksheet('df1')\n",
    "worksheet2 = workbook.add_worksheet('df2')\n",
    "\n",
    "# set header format\n",
    "header_format = workbook.add_format({\n",
    "    'valign': 'top',\n",
    "    'fg_color': '#002060',\n",
    "    'border': 1,\n",
    "    'font_color': 'white'})\n",
    "\n",
    "\n",
    "# start from A1 cell\n",
    "# worksheet.write_row(row, col, data, cell_format)\n",
    "worksheet1.write_row(0, 0, df1.columns, header_format)\n",
    "worksheet2.write_row(0, 0, df2.columns, header_format)\n",
    "\n",
    "\n",
    "# create some format\n",
    "format1 = workbook.add_format({'border': 1})\n",
    "format1.set_num_format(14)\n",
    "format1.set_font_size(12)\n",
    "\n",
    "format2 = workbook.add_format({'border': 1})\n",
    "format2.set_num_format(0)\n",
    "format2.set_font_size(12)\n",
    "\n",
    "format3 = workbook.add_format({'border': 1, 'num_format': '###'})\n",
    "format3.set_font_size(12)\n",
    "\n",
    "\n",
    "worksheet1.write_column(1, 0, df['D_FI_ACCT_FCST'].iloc[:, 0], format1)\n",
    "worksheet1.write_column(1, 1, df['D_FI_ACCT_FCST'].iloc[:, 1], format2)\n",
    "worksheet1.write_column(1, 2, df['D_FI_ACCT_FCST'].iloc[:, 2], format2)\n",
    "worksheet1.write_column(1, 3, df['D_FI_ACCT_FCST'].iloc[:, 3], format2)\n",
    "worksheet1.write_column(1, 4, df['D_FI_ACCT_FCST'].iloc[:, 4], format2)\n",
    "worksheet1.write_column(1, 5, df['D_FI_ACCT_FCST'].iloc[:, 5], format2)\n",
    "\n",
    "worksheet2.write_column(1, 0, df['D_FI_ACCT_DIM'].iloc[:, 0], format1)\n",
    "worksheet2.write_column(1, 1, df['D_FI_ACCT_DIM'].iloc[:, 1], format2)\n",
    "worksheet2.write_column(1, 2, df['D_FI_ACCT_DIM'].iloc[:, 2], format2)\n",
    "worksheet2.write_column(1, 3, df['D_FI_ACCT_DIM'].iloc[:, 3], format3)\n",
    "worksheet2.write_column(1, 4, df['D_FI_ACCT_DIM'].iloc[:, 4], format3)\n",
    "worksheet2.write_column(1, 5, df['D_FI_ACCT_DIM'].iloc[:, 5], format2)\n",
    "\n",
    "worksheet3.write_column(1, 0, df['D_FI_ACCT_FCST_OTHERS'].iloc[:, 0], format1)\n",
    "worksheet3.write_column(1, 1, df['D_FI_ACCT_FCST_OTHERS'].iloc[:, 1], format2)\n",
    "worksheet3.write_column(1, 2, df['D_FI_ACCT_FCST_OTHERS'].iloc[:, 2], format2)\n",
    "worksheet3.write_column(1, 3, df['D_FI_ACCT_FCST_OTHERS'].iloc[:, 3], format3)\n",
    "worksheet3.write_column(1, 4, df['D_FI_ACCT_FCST_OTHERS'].iloc[:, 4], format3)\n",
    "worksheet3.write_column(1, 5, df['D_FI_ACCT_FCST_OTHERS'].iloc[:, 5], format2)\n",
    "\n",
    "worksheet4.write_column(1, 0, df['D_FI_ACCT_FCST_LABEL'].iloc[:, 0], format1)\n",
    "worksheet4.write_column(1, 1, df['D_FI_ACCT_FCST_LABEL'].iloc[:, 1], format2)\n",
    "worksheet4.write_column(1, 2, df['D_FI_ACCT_FCST_LABEL'].iloc[:, 2], format2)\n",
    "worksheet4.write_column(1, 3, df['D_FI_ACCT_FCST_LABEL'].iloc[:, 3], format3)\n",
    "worksheet4.write_column(1, 4, df['D_FI_ACCT_FCST_LABEL'].iloc[:, 4], format3)\n",
    "\n",
    "worksheet5.write_column(1, 0, df['D_FI_ACCT_DIM_LABEL'].iloc[:, 0], format1)\n",
    "worksheet5.write_column(1, 1, df['D_FI_ACCT_DIM_LABEL'].iloc[:, 1], format2)\n",
    "worksheet5.write_column(1, 2, df['D_FI_ACCT_DIM_LABEL'].iloc[:, 2], format2)\n",
    "worksheet5.write_column(1, 3, df['D_FI_ACCT_DIM_LABEL'].iloc[:, 3], format2)\n",
    "worksheet5.write_column(1, 4, df['D_FI_ACCT_DIM_LABEL'].iloc[:, 4], format2)\n",
    "\n",
    "# 设置对应列的列宽，单位是字符长度\n",
    "\n",
    "worksheet1.set_column('A:A', 15)\n",
    "worksheet1.set_column('B:B', 15)\n",
    "worksheet1.set_column('C:C', 15)\n",
    "worksheet1.set_column('D:D', 15)\n",
    "worksheet1.set_column('E:E', 15)\n",
    "worksheet1.set_column('F:F', 15)\n",
    "\n",
    "worksheet2.set_column('A:A', 15)\n",
    "worksheet2.set_column('B:B', 15)\n",
    "worksheet2.set_column('C:C', 15)\n",
    "worksheet2.set_column('D:D', 15)\n",
    "worksheet2.set_column('E:E', 15)\n",
    "worksheet2.set_column('F:F', 15)\n",
    "\n",
    "worksheet3.set_column('A:A', 15)\n",
    "worksheet3.set_column('B:B', 15)\n",
    "worksheet3.set_column('C:C', 15)\n",
    "worksheet3.set_column('D:D', 15)\n",
    "worksheet3.set_column('E:E', 15)\n",
    "worksheet3.set_column('F:F', 15)\n",
    "\n",
    "worksheet4.set_column('A:A', 15)\n",
    "worksheet4.set_column('B:B', 15)\n",
    "worksheet4.set_column('C:C', 15)\n",
    "worksheet4.set_column('D:D', 15)\n",
    "worksheet4.set_column('E:E', 15)\n",
    "\n",
    "worksheet5.set_column('A:A', 15)\n",
    "worksheet5.set_column('B:B', 15)\n",
    "worksheet5.set_column('C:C', 15)\n",
    "worksheet5.set_column('D:D', 15)\n",
    "worksheet5.set_column('E:E', 15)\n",
    "worksheet5.set_column('F:F', 15)\n",
    "\n",
    "workbook.close()\n",
    "print(\"excel保存成功\")"
   ],
   "metadata": {
    "collapsed": false,
    "pycharm": {
     "name": "#%%\n"
    }
   }
  }
 ],
 "metadata": {
  "kernelspec": {
   "display_name": "Python 3",
   "language": "python",
   "name": "python3"
  },
  "language_info": {
   "codemirror_mode": {
    "name": "ipython",
    "version": 2
   },
   "file_extension": ".py",
   "mimetype": "text/x-python",
   "name": "python",
   "nbconvert_exporter": "python",
   "pygments_lexer": "ipython2",
   "version": "2.7.6"
  }
 },
 "nbformat": 4,
 "nbformat_minor": 0
}