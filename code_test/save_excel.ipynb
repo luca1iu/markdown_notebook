{
 "cells": [
  {
   "cell_type": "markdown",
   "source": [
    "question description:\n",
    "you have following 5 dataframes and you want to save them into one excel file with different sheets"
   ],
   "metadata": {
    "collapsed": false,
    "pycharm": {
     "name": "#%% md\n"
    }
   }
  },
  {
   "cell_type": "code",
   "execution_count": 1,
   "outputs": [
    {
     "name": "stdout",
     "output_type": "stream",
     "text": [
      "| Date      |    Int |   Int_with_seperator | String   |   Float |   Percent |\n",
      "|:----------|-------:|---------------------:|:---------|--------:|----------:|\n",
      "| 2022/11/1 | 233211 |               925478 | Apple    |   98.45 |    0.4234 |\n",
      "| 2022/11/1 |  24321 |                23484 | Huawei   |   65.24 |    0.9434 |\n",
      "| 2022/11/1 |  35345 |               123249 | Xiaomi   |   30    |    0.6512 |\n",
      "| 2022/11/1 |  23223 |              2345675 | Oppo     |   80.88 |    0.6133 |\n"
     ]
    }
   ],
   "source": [
    "import pandas as pd\n",
    "\n",
    "df= pd.DataFrame({'Date':['2022/11/1','2022/11/1','2022/11/1','2022/11/1'],'Int':[233211,24321,35345,23223],'Int_with_seperator':[925478,23484,123249,2345675],'String':['Apple','Huawei','Xiaomi','Oppo'],'Float':[98.45,65.24,30,80.88],'Percent':[0.4234,0.9434,0.6512,0.6133]})\n",
    "\n",
    "print(df.to_markdown(index=False))"
   ],
   "metadata": {
    "collapsed": false,
    "pycharm": {
     "name": "#%%\n"
    }
   }
  },
  {
   "cell_type": "code",
   "execution_count": 9,
   "outputs": [
    {
     "name": "stdout",
     "output_type": "stream",
     "text": [
      "| Date      |     Int |   Int_with_seperator | String   |   Float |   Percent |\n",
      "|:----------|--------:|---------------------:|:---------|--------:|----------:|\n",
      "| 2022/12/1 |  116382 |              1845132 | Tom      |   98.45 |    0.8878 |\n",
      "| 2022/12/1 |  227393 |               298145 | Grace    |   65.24 |    0.9523 |\n",
      "| 2022/12/1 | 3274984 |               336278 | Luca     |   30    |    0.4545 |\n",
      "| 2022/12/1 |  438164 |               443816 | Tessa    |   80.88 |    0.9921 |\n"
     ]
    }
   ],
   "source": [
    "print(df1.to_markdown(index=False))"
   ],
   "metadata": {
    "collapsed": false,
    "pycharm": {
     "name": "#%%\n"
    }
   }
  },
  {
   "cell_type": "code",
   "execution_count": 10,
   "outputs": [
    {
     "name": "stdout",
     "output_type": "stream",
     "text": [
      "| Date      |    Int |   Int_with_seperator | String   |   Float |   Percent |\n",
      "|:----------|-------:|---------------------:|:---------|--------:|----------:|\n",
      "| 2022/11/1 | 233211 |               925478 | Apple    |   98.45 |    0.4234 |\n",
      "| 2022/11/1 |  24321 |                23484 | Huawei   |   65.24 |    0.9434 |\n",
      "| 2022/11/1 |  35345 |               123249 | Xiaomi   |   30    |    0.6512 |\n",
      "| 2022/11/1 |  23223 |              2345675 | Oppo     |   80.88 |    0.6133 |\n"
     ]
    }
   ],
   "source": [],
   "metadata": {
    "collapsed": false,
    "pycharm": {
     "name": "#%%\n"
    }
   }
  },
  {
   "cell_type": "code",
   "execution_count": 4,
   "outputs": [
    {
     "name": "stdout",
     "output_type": "stream",
     "text": [
      "excel保存成功\n"
     ]
    }
   ],
   "source": [
    "import xlsxwriter\n",
    "\n",
    "# create excel file\n",
    "workbook = xlsxwriter.Workbook(\"new_excel.xlsx\")\n",
    "\n",
    "# create two sheets\n",
    "worksheet1 = workbook.add_worksheet('df1')\n",
    "worksheet2 = workbook.add_worksheet('df2')\n",
    "\n",
    "# set header format\n",
    "header_format = workbook.add_format({\n",
    "    'valign': 'top',\n",
    "    'fg_color': '#002060',\n",
    "    'border': 1,\n",
    "    'font_color': 'white'})\n",
    "\n",
    "\n",
    "# start from A1 cell\n",
    "# worksheet.write_row(row, col, data, cell_format)\n",
    "worksheet1.write_row(0, 0, df1.columns, header_format)\n",
    "worksheet2.write_row(0, 0, df2.columns, header_format)\n",
    "\n",
    "\n",
    "# create some format\n",
    "\n",
    "# set datetime format \"m/d/yy\"\n",
    "format_datetime = workbook.add_format({'border': 1})\n",
    "format_datetime.set_num_format(14) # based on above table, 14 means \"m/d/yy\"\n",
    "format_datetime.set_font_size(12) # set font size\n",
    "\n",
    "# set General format\n",
    "format_general = workbook.add_format({'border': 1})\n",
    "format_general.set_num_format(0) # 0 means general\n",
    "format_general.set_font_size(12)\n",
    "\n",
    "# set integer format \"0\"\n",
    "format_integer = workbook.add_format({'border': 1})\n",
    "format_integer.set_num_format(1)\n",
    "format_integer.set_font_size(12)\n",
    "\n",
    "# set float format \"0.00\"\n",
    "format_float = workbook.add_format({'border':1})\n",
    "format_float.set_num_format(2)\n",
    "format_float.set_font_size(12)\n",
    "\n",
    "# set integer format with thousands separators \"#,##0\"\n",
    "format_integer_separator = workbook.add_format({'border': 1})\n",
    "format_integer_separator.set_num_format(3)\n",
    "format_integer_separator.set_font_size(12)\n",
    "\n",
    "# set percent format \"0.00%\"\n",
    "format_percent = workbook.add_format({'border':1})\n",
    "format_percent.set_num_format(10)\n",
    "format_percent.set_font_size(12)\n",
    "\n",
    "\n",
    "\n",
    "worksheet1.write_column(1, 0, df1.iloc[:, 0], format_datetime)\n",
    "worksheet1.write_column(1, 1, df1.iloc[:, 1], format_integer)\n",
    "worksheet1.write_column(1, 2, df1.iloc[:, 2], format_integer_separator)\n",
    "worksheet1.write_column(1, 3, df1.iloc[:, 3], format_general)\n",
    "worksheet1.write_column(1, 4, df1.iloc[:, 4], format_float)\n",
    "worksheet1.write_column(1, 5, df1.iloc[:, 5], format_percent)\n",
    "\n",
    "worksheet2.write_column(1, 0, df2.iloc[:, 0], format_datetime)\n",
    "worksheet2.write_column(1, 1, df2.iloc[:, 1], format_integer)\n",
    "worksheet2.write_column(1, 2, df2.iloc[:, 2], format_integer_separator)\n",
    "worksheet2.write_column(1, 3, df2.iloc[:, 3], format_general)\n",
    "worksheet2.write_column(1, 4, df2.iloc[:, 4], format_float)\n",
    "worksheet2.write_column(1, 5, df2.iloc[:, 5], format_percent)\n",
    "\n",
    "\n",
    "# 设置对应列的列宽，单位是字符长度\n",
    "worksheet1.set_column('A:A', 15)\n",
    "worksheet1.set_column('B:B', 15)\n",
    "worksheet1.set_column('C:C', 15)\n",
    "worksheet1.set_column('D:D', 15)\n",
    "worksheet1.set_column('E:E', 15)\n",
    "worksheet1.set_column('F:F', 15)\n",
    "\n",
    "worksheet2.set_column('A:A', 15)\n",
    "worksheet2.set_column('B:B', 15)\n",
    "worksheet2.set_column('C:C', 15)\n",
    "worksheet2.set_column('D:D', 15)\n",
    "worksheet2.set_column('E:E', 15)\n",
    "worksheet2.set_column('F:F', 15)\n",
    "\n",
    "\n",
    "workbook.close()\n",
    "print(\"excel保存成功\")"
   ],
   "metadata": {
    "collapsed": false,
    "pycharm": {
     "name": "#%%\n"
    }
   }
  },
  {
   "cell_type": "code",
   "execution_count": null,
   "outputs": [],
   "source": [
    "\n",
    "\n",
    "\n"
   ],
   "metadata": {
    "collapsed": false,
    "pycharm": {
     "name": "#%%\n"
    }
   }
  }
 ],
 "metadata": {
  "kernelspec": {
   "display_name": "Python 3",
   "language": "python",
   "name": "python3"
  },
  "language_info": {
   "codemirror_mode": {
    "name": "ipython",
    "version": 2
   },
   "file_extension": ".py",
   "mimetype": "text/x-python",
   "name": "python",
   "nbconvert_exporter": "python",
   "pygments_lexer": "ipython2",
   "version": "2.7.6"
  }
 },
 "nbformat": 4,
 "nbformat_minor": 0
}